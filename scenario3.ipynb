{
 "cells": [
  {
   "cell_type": "code",
   "execution_count": 1,
   "metadata": {},
   "outputs": [],
   "source": [
    "import xml.etree.ElementTree as ET \n",
    "import gzip\n",
    "from xml.etree.cElementTree import ElementTree\n",
    "\n",
    "import pandas as pd\n",
    "import geopandas as gpd\n",
    "import timeit\n",
    "import geopy.distance\n",
    "import numpy as np\n",
    "import math\n",
    "import matplotlib.pyplot as plt\n",
    "from shapely.geometry import Point, MultiPoint, Polygon\n",
    "import random\n",
    "from pyproj import Proj, transform #Convertion EPSG2154 to WGS84\n",
    "\n",
    "from datetime import datetime\n",
    "\n",
    "import statistics"
   ]
  },
  {
   "cell_type": "code",
   "execution_count": null,
   "metadata": {},
   "outputs": [],
   "source": []
  },
  {
   "cell_type": "code",
   "execution_count": null,
   "metadata": {},
   "outputs": [],
   "source": []
  },
  {
   "cell_type": "code",
   "execution_count": 2,
   "metadata": {},
   "outputs": [],
   "source": [
    "data_path = \"/media/aodiallo/Data/MATSIM/data\"\n",
    "SOURCE = \"edgt_lyon_2015/zf_lyon/ZF_Lyon_Metropolis.shp\""
   ]
  },
  {
   "cell_type": "code",
   "execution_count": 3,
   "metadata": {},
   "outputs": [],
   "source": [
    "df_iris = gpd.read_file(\"%s/%s\" % (data_path, SOURCE))[[\n",
    "        \"codeiris\", \"commune\", \"insee\", \"geometry\"\n",
    "    ]].rename(columns = {\n",
    "        \"codeiris\": \"iris_id\",\n",
    "        \"commune\": \"commune_name\",\n",
    "        \"insee\": \"commune_id\"\n",
    "    })\n",
    "\n",
    "df_iris.crs = \"EPSG:2154\"\n",
    "\n",
    "df_iris[\"iris_id\"] = df_iris[\"iris_id\"].astype(str).astype(\"category\")\n",
    "df_iris[\"commune_id\"] = df_iris[\"commune_id\"].astype(str).astype(\"category\")\n",
    "df_iris[\"commune_name\"] = df_iris[\"commune_name\"].astype(str).astype(\"category\")"
   ]
  },
  {
   "cell_type": "code",
   "execution_count": 4,
   "metadata": {},
   "outputs": [
    {
     "data": {
      "text/html": [
       "<div>\n",
       "<style scoped>\n",
       "    .dataframe tbody tr th:only-of-type {\n",
       "        vertical-align: middle;\n",
       "    }\n",
       "\n",
       "    .dataframe tbody tr th {\n",
       "        vertical-align: top;\n",
       "    }\n",
       "\n",
       "    .dataframe thead th {\n",
       "        text-align: right;\n",
       "    }\n",
       "</style>\n",
       "<table border=\"1\" class=\"dataframe\">\n",
       "  <thead>\n",
       "    <tr style=\"text-align: right;\">\n",
       "      <th></th>\n",
       "      <th>iris_id</th>\n",
       "      <th>commune_name</th>\n",
       "      <th>commune_id</th>\n",
       "      <th>geometry</th>\n",
       "    </tr>\n",
       "  </thead>\n",
       "  <tbody>\n",
       "    <tr>\n",
       "      <th>0</th>\n",
       "      <td>690030000</td>\n",
       "      <td>Albigny-sur-Saône</td>\n",
       "      <td>69003</td>\n",
       "      <td>POLYGON ((842472.000 6532458.900, 842430.200 6...</td>\n",
       "    </tr>\n",
       "    <tr>\n",
       "      <th>1</th>\n",
       "      <td>690290101</td>\n",
       "      <td>Bron</td>\n",
       "      <td>69029</td>\n",
       "      <td>POLYGON ((848185.000 6517805.100, 848179.300 6...</td>\n",
       "    </tr>\n",
       "    <tr>\n",
       "      <th>2</th>\n",
       "      <td>690290102</td>\n",
       "      <td>Bron</td>\n",
       "      <td>69029</td>\n",
       "      <td>POLYGON ((848185.000 6517805.100, 848193.700 6...</td>\n",
       "    </tr>\n",
       "    <tr>\n",
       "      <th>3</th>\n",
       "      <td>690290103</td>\n",
       "      <td>Bron</td>\n",
       "      <td>69029</td>\n",
       "      <td>POLYGON ((848473.000 6517709.800, 848475.200 6...</td>\n",
       "    </tr>\n",
       "    <tr>\n",
       "      <th>4</th>\n",
       "      <td>690290104</td>\n",
       "      <td>Bron</td>\n",
       "      <td>69029</td>\n",
       "      <td>POLYGON ((849043.400 6517050.700, 849006.900 6...</td>\n",
       "    </tr>\n",
       "    <tr>\n",
       "      <th>...</th>\n",
       "      <td>...</td>\n",
       "      <td>...</td>\n",
       "      <td>...</td>\n",
       "      <td>...</td>\n",
       "    </tr>\n",
       "    <tr>\n",
       "      <th>507</th>\n",
       "      <td>693890502</td>\n",
       "      <td>Lyon 9e Arrondissement</td>\n",
       "      <td>69389</td>\n",
       "      <td>POLYGON ((839868.200 6520100.400, 839873.900 6...</td>\n",
       "    </tr>\n",
       "    <tr>\n",
       "      <th>508</th>\n",
       "      <td>693890604</td>\n",
       "      <td>Lyon 9e Arrondissement</td>\n",
       "      <td>69389</td>\n",
       "      <td>POLYGON ((839222.200 6522347.200, 839220.400 6...</td>\n",
       "    </tr>\n",
       "    <tr>\n",
       "      <th>509</th>\n",
       "      <td>693890605</td>\n",
       "      <td>Lyon 9e Arrondissement</td>\n",
       "      <td>69389</td>\n",
       "      <td>POLYGON ((839317.700 6522667.900, 839321.800 6...</td>\n",
       "    </tr>\n",
       "    <tr>\n",
       "      <th>510</th>\n",
       "      <td>693890606</td>\n",
       "      <td>Lyon 9e Arrondissement</td>\n",
       "      <td>69389</td>\n",
       "      <td>POLYGON ((839218.700 6521610.100, 839226.100 6...</td>\n",
       "    </tr>\n",
       "    <tr>\n",
       "      <th>511</th>\n",
       "      <td>693890607</td>\n",
       "      <td>Lyon 9e Arrondissement</td>\n",
       "      <td>69389</td>\n",
       "      <td>POLYGON ((839218.700 6521610.100, 839209.500 6...</td>\n",
       "    </tr>\n",
       "  </tbody>\n",
       "</table>\n",
       "<p>512 rows × 4 columns</p>\n",
       "</div>"
      ],
      "text/plain": [
       "       iris_id            commune_name commune_id  \\\n",
       "0    690030000       Albigny-sur-Saône      69003   \n",
       "1    690290101                    Bron      69029   \n",
       "2    690290102                    Bron      69029   \n",
       "3    690290103                    Bron      69029   \n",
       "4    690290104                    Bron      69029   \n",
       "..         ...                     ...        ...   \n",
       "507  693890502  Lyon 9e Arrondissement      69389   \n",
       "508  693890604  Lyon 9e Arrondissement      69389   \n",
       "509  693890605  Lyon 9e Arrondissement      69389   \n",
       "510  693890606  Lyon 9e Arrondissement      69389   \n",
       "511  693890607  Lyon 9e Arrondissement      69389   \n",
       "\n",
       "                                              geometry  \n",
       "0    POLYGON ((842472.000 6532458.900, 842430.200 6...  \n",
       "1    POLYGON ((848185.000 6517805.100, 848179.300 6...  \n",
       "2    POLYGON ((848185.000 6517805.100, 848193.700 6...  \n",
       "3    POLYGON ((848473.000 6517709.800, 848475.200 6...  \n",
       "4    POLYGON ((849043.400 6517050.700, 849006.900 6...  \n",
       "..                                                 ...  \n",
       "507  POLYGON ((839868.200 6520100.400, 839873.900 6...  \n",
       "508  POLYGON ((839222.200 6522347.200, 839220.400 6...  \n",
       "509  POLYGON ((839317.700 6522667.900, 839321.800 6...  \n",
       "510  POLYGON ((839218.700 6521610.100, 839226.100 6...  \n",
       "511  POLYGON ((839218.700 6521610.100, 839209.500 6...  \n",
       "\n",
       "[512 rows x 4 columns]"
      ]
     },
     "execution_count": 4,
     "metadata": {},
     "output_type": "execute_result"
    }
   ],
   "source": [
    "df_iris"
   ]
  },
  {
   "cell_type": "code",
   "execution_count": 5,
   "metadata": {},
   "outputs": [
    {
     "data": {
      "text/plain": [
       "<AxesSubplot:>"
      ]
     },
     "execution_count": 5,
     "metadata": {},
     "output_type": "execute_result"
    },
    {
     "data": {
      "image/png": "[encoded data removed]",
      "text/plain": [
       "<Figure size 432x288 with 1 Axes>"
      ]
     },
     "metadata": {
      "needs_background": "light"
     },
     "output_type": "display_data"
    }
   ],
   "source": [
    "df_iris.plot()"
   ]
  },
  {
   "cell_type": "code",
   "execution_count": 6,
   "metadata": {},
   "outputs": [],
   "source": [
    "def is_in_urban_area(df, x ,y):\n",
    "    point = Point(x,y)\n",
    "    table = df.contains(point)\n",
    "    for x in table:\n",
    "        if x== True:\n",
    "            return(True)\n",
    "    return(False)"
   ]
  },
  {
   "cell_type": "code",
   "execution_count": 7,
   "metadata": {},
   "outputs": [
    {
     "name": "stdout",
     "output_type": "stream",
     "text": [
      "['69003', '69029', '69033', '69034', '69040', ..., '69385', '69386', '69387', '69388', '69389']\n",
      "Length: 67\n",
      "Categories (67, object): ['69003', '69029', '69033', '69034', ..., '69386', '69387', '69388', '69389']\n"
     ]
    }
   ],
   "source": [
    "print(df_iris[\"commune_id\"].unique())"
   ]
  },
  {
   "cell_type": "code",
   "execution_count": 8,
   "metadata": {},
   "outputs": [],
   "source": [
    "### Urban aera selection : Lyon (1-9 arrondissement) : Lyon 1er Arrondissement 69381-69389, Villeurbanne 69266,\n",
    "### Bron 69029, Vaulx-en-Velin 69256, Caluire-et-Cuire 69034"
   ]
  },
  {
   "cell_type": "code",
   "execution_count": 9,
   "metadata": {},
   "outputs": [],
   "source": [
    "urban_cities = [\"69381\", \"69382\", \"69383\", \"69384\", \"69385\", \"69386\", \"69387\", \"69388\", \"69389\", \"69266\", \"69029\", \"69256\", \"69034\"]"
   ]
  },
  {
   "cell_type": "code",
   "execution_count": 10,
   "metadata": {},
   "outputs": [],
   "source": [
    "df_iris_urban = df_iris[df_iris[\"commune_id\"].isin(urban_cities)]"
   ]
  },
  {
   "cell_type": "code",
   "execution_count": 11,
   "metadata": {},
   "outputs": [
    {
     "data": {
      "text/html": [
       "<div>\n",
       "<style scoped>\n",
       "    .dataframe tbody tr th:only-of-type {\n",
       "        vertical-align: middle;\n",
       "    }\n",
       "\n",
       "    .dataframe tbody tr th {\n",
       "        vertical-align: top;\n",
       "    }\n",
       "\n",
       "    .dataframe thead th {\n",
       "        text-align: right;\n",
       "    }\n",
       "</style>\n",
       "<table border=\"1\" class=\"dataframe\">\n",
       "  <thead>\n",
       "    <tr style=\"text-align: right;\">\n",
       "      <th></th>\n",
       "      <th>iris_id</th>\n",
       "      <th>commune_name</th>\n",
       "      <th>commune_id</th>\n",
       "      <th>geometry</th>\n",
       "    </tr>\n",
       "  </thead>\n",
       "  <tbody>\n",
       "    <tr>\n",
       "      <th>1</th>\n",
       "      <td>690290101</td>\n",
       "      <td>Bron</td>\n",
       "      <td>69029</td>\n",
       "      <td>POLYGON ((848185.000 6517805.100, 848179.300 6...</td>\n",
       "    </tr>\n",
       "    <tr>\n",
       "      <th>2</th>\n",
       "      <td>690290102</td>\n",
       "      <td>Bron</td>\n",
       "      <td>69029</td>\n",
       "      <td>POLYGON ((848185.000 6517805.100, 848193.700 6...</td>\n",
       "    </tr>\n",
       "    <tr>\n",
       "      <th>3</th>\n",
       "      <td>690290103</td>\n",
       "      <td>Bron</td>\n",
       "      <td>69029</td>\n",
       "      <td>POLYGON ((848473.000 6517709.800, 848475.200 6...</td>\n",
       "    </tr>\n",
       "    <tr>\n",
       "      <th>4</th>\n",
       "      <td>690290104</td>\n",
       "      <td>Bron</td>\n",
       "      <td>69029</td>\n",
       "      <td>POLYGON ((849043.400 6517050.700, 849006.900 6...</td>\n",
       "    </tr>\n",
       "    <tr>\n",
       "      <th>5</th>\n",
       "      <td>690290201</td>\n",
       "      <td>Bron</td>\n",
       "      <td>69029</td>\n",
       "      <td>POLYGON ((848971.400 6517848.300, 848985.600 6...</td>\n",
       "    </tr>\n",
       "    <tr>\n",
       "      <th>...</th>\n",
       "      <td>...</td>\n",
       "      <td>...</td>\n",
       "      <td>...</td>\n",
       "      <td>...</td>\n",
       "    </tr>\n",
       "    <tr>\n",
       "      <th>507</th>\n",
       "      <td>693890502</td>\n",
       "      <td>Lyon 9e Arrondissement</td>\n",
       "      <td>69389</td>\n",
       "      <td>POLYGON ((839868.200 6520100.400, 839873.900 6...</td>\n",
       "    </tr>\n",
       "    <tr>\n",
       "      <th>508</th>\n",
       "      <td>693890604</td>\n",
       "      <td>Lyon 9e Arrondissement</td>\n",
       "      <td>69389</td>\n",
       "      <td>POLYGON ((839222.200 6522347.200, 839220.400 6...</td>\n",
       "    </tr>\n",
       "    <tr>\n",
       "      <th>509</th>\n",
       "      <td>693890605</td>\n",
       "      <td>Lyon 9e Arrondissement</td>\n",
       "      <td>69389</td>\n",
       "      <td>POLYGON ((839317.700 6522667.900, 839321.800 6...</td>\n",
       "    </tr>\n",
       "    <tr>\n",
       "      <th>510</th>\n",
       "      <td>693890606</td>\n",
       "      <td>Lyon 9e Arrondissement</td>\n",
       "      <td>69389</td>\n",
       "      <td>POLYGON ((839218.700 6521610.100, 839226.100 6...</td>\n",
       "    </tr>\n",
       "    <tr>\n",
       "      <th>511</th>\n",
       "      <td>693890607</td>\n",
       "      <td>Lyon 9e Arrondissement</td>\n",
       "      <td>69389</td>\n",
       "      <td>POLYGON ((839218.700 6521610.100, 839209.500 6...</td>\n",
       "    </tr>\n",
       "  </tbody>\n",
       "</table>\n",
       "<p>286 rows × 4 columns</p>\n",
       "</div>"
      ],
      "text/plain": [
       "       iris_id            commune_name commune_id  \\\n",
       "1    690290101                    Bron      69029   \n",
       "2    690290102                    Bron      69029   \n",
       "3    690290103                    Bron      69029   \n",
       "4    690290104                    Bron      69029   \n",
       "5    690290201                    Bron      69029   \n",
       "..         ...                     ...        ...   \n",
       "507  693890502  Lyon 9e Arrondissement      69389   \n",
       "508  693890604  Lyon 9e Arrondissement      69389   \n",
       "509  693890605  Lyon 9e Arrondissement      69389   \n",
       "510  693890606  Lyon 9e Arrondissement      69389   \n",
       "511  693890607  Lyon 9e Arrondissement      69389   \n",
       "\n",
       "                                              geometry  \n",
       "1    POLYGON ((848185.000 6517805.100, 848179.300 6...  \n",
       "2    POLYGON ((848185.000 6517805.100, 848193.700 6...  \n",
       "3    POLYGON ((848473.000 6517709.800, 848475.200 6...  \n",
       "4    POLYGON ((849043.400 6517050.700, 849006.900 6...  \n",
       "5    POLYGON ((848971.400 6517848.300, 848985.600 6...  \n",
       "..                                                 ...  \n",
       "507  POLYGON ((839868.200 6520100.400, 839873.900 6...  \n",
       "508  POLYGON ((839222.200 6522347.200, 839220.400 6...  \n",
       "509  POLYGON ((839317.700 6522667.900, 839321.800 6...  \n",
       "510  POLYGON ((839218.700 6521610.100, 839226.100 6...  \n",
       "511  POLYGON ((839218.700 6521610.100, 839209.500 6...  \n",
       "\n",
       "[286 rows x 4 columns]"
      ]
     },
     "execution_count": 11,
     "metadata": {},
     "output_type": "execute_result"
    }
   ],
   "source": [
    "df_iris_urban"
   ]
  },
  {
   "cell_type": "code",
   "execution_count": 12,
   "metadata": {},
   "outputs": [
    {
     "data": {
      "text/plain": [
       "<AxesSubplot:>"
      ]
     },
     "execution_count": 12,
     "metadata": {},
     "output_type": "execute_result"
    },
    {
     "data": {
      "image/png": "[encoded data removed]",
      "text/plain": [
       "<Figure size 432x288 with 1 Axes>"
      ]
     },
     "metadata": {
      "needs_background": "light"
     },
     "output_type": "display_data"
    }
   ],
   "source": [
    "df_iris_urban.plot()"
   ]
  },
  {
   "cell_type": "code",
   "execution_count": 13,
   "metadata": {},
   "outputs": [],
   "source": [
    "def population_stats(population):\n",
    "    number=len(population)\n",
    "    print(\"Taille population :   \",number)\n",
    "    driving_lic_poss = len([person for person in population.iter('person') if person[0][6].text==\"yes\"])\n",
    "    print(\"Titulaires du permis :\",driving_lic_poss,\" soit \", driving_lic_poss/number * 100, \"%\")\n",
    "    women = len([person for person in population.iter('person') if person[0][13].text==\"f\"])\n",
    "    print(\"Femmes :              \", women, \" soit \", women/number * 100, \"%\")\n",
    "    men = len([person for person in population.iter('person') if person[0][13].text==\"m\"])\n",
    "    print(\"Hommes :              \", men, \" soit \", men/number * 100, \"%\")\n",
    "    print(\"Revenu moyen :        \",statistics.mean([float(person[0][9].text) for person in population.iter('person')]))\n",
    "    pt_sub = len([person for person in population.iter('person') if person[0][7].text==\"true\"])\n",
    "    print(\"Abonnés aux pt :  \", pt_sub, \" soit \", pt_sub/number * 100, \"%\")\n",
    "    #return members\n",
    "    #CSMembership(members,companies,CSMembership_file"
   ]
  },
  {
   "cell_type": "code",
   "execution_count": 14,
   "metadata": {},
   "outputs": [],
   "source": [
    "initialPlanFile = '/media/aodiallo/Data/MATSIM/Simulation/robotaxi/input/5_pr_100/lyon_metropole_population.xml.gz'\n",
    "treePopulation = ET.parse(gzip.open(initialPlanFile,'r'))\n",
    "population  = treePopulation.getroot()"
   ]
  },
  {
   "cell_type": "code",
   "execution_count": 15,
   "metadata": {},
   "outputs": [
    {
     "data": {
      "text/plain": [
       "True"
      ]
     },
     "execution_count": 15,
     "metadata": {},
     "output_type": "execute_result"
    }
   ],
   "source": [
    "agent = population[1]\n",
    "plan = agent[1]\n",
    "home = plan[0]\n",
    "x = float(home.get(\"x\"))\n",
    "y = float(home.get(\"y\"))\n",
    "x\n",
    "point = Point(x,y)\n",
    "\n",
    "is_in_urban_area(df_iris_urban, x,y)"
   ]
  },
  {
   "cell_type": "code",
   "execution_count": 16,
   "metadata": {},
   "outputs": [
    {
     "name": "stdout",
     "output_type": "stream",
     "text": [
      "Taille population :    63171\n",
      "Titulaires du permis : 39652  soit  62.76930870177772 %\n",
      "Femmes :               32854  soit  52.00804166468791 %\n",
      "Hommes :               30316  soit  47.99037533045226 %\n",
      "Revenu moyen :         3599.659920513927\n",
      "Abonnés aux pt :   21653  soit  34.276804229788986 %\n"
     ]
    }
   ],
   "source": [
    "population_stats(population)"
   ]
  },
  {
   "cell_type": "code",
   "execution_count": 17,
   "metadata": {},
   "outputs": [],
   "source": [
    "is_in_urban = 0\n",
    "is_peripheral = 0"
   ]
  },
  {
   "cell_type": "code",
   "execution_count": 18,
   "metadata": {},
   "outputs": [],
   "source": [
    "for person in population.iter('person'):\n",
    "    carAvail = person[0][2]\n",
    "    x = float(person[1][0].get('x'))\n",
    "    y = float(person[1][0].get('y'))\n",
    "    if is_in_urban_area(df_iris_urban,x,y) == True:\n",
    "        # Ajouter la subpopulation\n",
    "        carAvail.text='none'\n",
    "        subpop=ET.SubElement(person[0],'attribute', attrib={'name': \"subpopulation\", 'class':\"java.lang.String\"})\n",
    "        subpop.text=\"is_urban\"\n",
    "        is_in_urban+=1\n",
    "        # Modifier le mode \n",
    "        for leg in person[1].iter('leg'):\n",
    "            if leg.get('mode') == 'car':\n",
    "                leg.set('mode','drt')\n",
    "                leg[0][0].text='drt'\n",
    "                if leg[1].get('start_link') == leg[1].get('end_link'):\n",
    "                    leg.set('mode','walk')\n",
    "                    leg[0][0].text='walk'\n",
    "                    leg[1].text=''\n",
    "                else :\n",
    "                    leg.set('mode','drt') #avec drt <route> est different de car (ce n'est pas la liste des liens mais les paramètres d'attente et detour autorisé)\n",
    "                    leg.remove(leg[0])\n",
    "                    leg.remove(leg[0])\n",
    "            if leg.get('mode') == 'car_passenger':\n",
    "                leg.set('mode','drt')\n",
    "                leg[0][0].text='drt'\n",
    "                if leg[1].get('start_link') == leg[1].get('end_link'):\n",
    "                    leg.set('mode','walk')\n",
    "                    leg[0][0].text='walk'\n",
    "                    leg[1].text=''\n",
    "                else :\n",
    "                    leg.set('mode','drt')\n",
    "                    leg.remove(leg[0])\n",
    "                    leg.remove(leg[0])\n",
    "    else: \n",
    "        # Ajouter la subpopulation\n",
    "        subpop=ET.SubElement(person[0],'attribute', attrib={'name': \"subpopulation\", 'class':\"java.lang.String\"})\n",
    "        subpop.text=\"is_peripheral\"\n",
    "        is_peripheral+=1"
   ]
  },
  {
   "cell_type": "code",
   "execution_count": 19,
   "metadata": {},
   "outputs": [
    {
     "data": {
      "text/plain": [
       "38694"
      ]
     },
     "execution_count": 19,
     "metadata": {},
     "output_type": "execute_result"
    }
   ],
   "source": [
    "is_in_urban"
   ]
  },
  {
   "cell_type": "code",
   "execution_count": 20,
   "metadata": {},
   "outputs": [
    {
     "data": {
      "text/plain": [
       "61.25279004606544"
      ]
     },
     "execution_count": 20,
     "metadata": {},
     "output_type": "execute_result"
    }
   ],
   "source": [
    "is_in_urban/63171 * 100"
   ]
  },
  {
   "cell_type": "code",
   "execution_count": 21,
   "metadata": {},
   "outputs": [
    {
     "data": {
      "text/plain": [
       "38.74562694907473"
      ]
     },
     "execution_count": 21,
     "metadata": {},
     "output_type": "execute_result"
    }
   ],
   "source": [
    "is_peripheral/63171 *100"
   ]
  },
  {
   "cell_type": "code",
   "execution_count": 24,
   "metadata": {},
   "outputs": [],
   "source": [
    "modifiedPlanFile = '/media/aodiallo/Data/MATSIM/Simulation/robotaxi/input/scenario3/population_sce3.xml.gz'\n",
    "f = gzip.open(modifiedPlanFile, 'wb')\n",
    "f.write('<?xml version=\"1.0\" encoding=\"utf-8\"?><!DOCTYPE population SYSTEM \"http://www.matsim.org/files/dtd/population_v6.dtd\">'.encode('utf8'))\n",
    "ElementTree(population).write(f) \n",
    "f.close()"
   ]
  },
  {
   "cell_type": "code",
   "execution_count": null,
   "metadata": {},
   "outputs": [],
   "source": []
  },
  {
   "cell_type": "code",
   "execution_count": null,
   "metadata": {},
   "outputs": [],
   "source": [
    "### First case : Which number of taxi vehicles ? 10 pers -> 1 taxis\n",
    "print(\"Number of taxis :\", int(is_in_urban/10))"
   ]
  },
  {
   "cell_type": "code",
   "execution_count": null,
   "metadata": {},
   "outputs": [],
   "source": []
  }
 ],
 "metadata": {
  "kernelspec": {
   "display_name": "Python 3 (ipykernel)",
   "language": "python",
   "name": "python3"
  },
  "language_info": {
   "codemirror_mode": {
    "name": "ipython",
    "version": 3
   },
   "file_extension": ".py",
   "mimetype": "text/x-python",
   "name": "python",
   "nbconvert_exporter": "python",
   "pygments_lexer": "ipython3",
   "version": "3.9.7"
  },
  "varInspector": {
   "cols": {
    "lenName": 16,
    "lenType": 16,
    "lenVar": 40
   },
   "kernels_config": {
    "python": {
     "delete_cmd_postfix": "",
     "delete_cmd_prefix": "del ",
     "library": "var_list.py",
     "varRefreshCmd": "print(var_dic_list())"
    },
    "r": {
     "delete_cmd_postfix": ") ",
     "delete_cmd_prefix": "rm(",
     "library": "var_list.r",
     "varRefreshCmd": "cat(var_dic_list()) "
    }
   },
   "types_to_exclude": [
    "module",
    "function",
    "builtin_function_or_method",
    "instance",
    "_Feature"
   ],
   "window_display": false
  }
 },
 "nbformat": 4,
 "nbformat_minor": 2
}
