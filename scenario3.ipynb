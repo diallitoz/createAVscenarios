{
 "cells": [
  {
   "cell_type": "code",
   "execution_count": null,
   "metadata": {},
   "outputs": [],
   "source": [
    "import xml.etree.ElementTree as ET \n",
    "import gzip\n",
    "from xml.etree.cElementTree import ElementTree"
   ]
  },
  {
   "cell_type": "code",
   "execution_count": null,
   "metadata": {},
   "outputs": [],
   "source": [
    "initialPlanFile = '/Users/MathildeMoliner/Documents/Polytechnique/MATSim/create_input/decompress/input_plans.xml.gz'\n",
    "treePopulation = ET.parse(gzip.open(initialPlanFile,'r'))\n",
    "population  = treePopulation.getroot()"
   ]
  },
  {
   "cell_type": "code",
   "execution_count": null,
   "metadata": {},
   "outputs": [],
   "source": [
    "motorHousehold=[]\n",
    "privateHousehold=[]\n",
    "linkHousehold=[]\n",
    "taxiUser=0\n",
    "\n",
    "# Etablir la liste des ménages motorisés\n",
    "for person in population.iter('person'):\n",
    "    carAvail=person[0][2]\n",
    "    householdId=person[0][5]\n",
    "    if carAvail.text!='never':\n",
    "        carAvail.text='never'\n",
    "        if householdId.text not in motorHousehold: \n",
    "            motorHousehold.append(householdId.text)"
   ]
  },
  {
   "cell_type": "code",
   "execution_count": null,
   "metadata": {},
   "outputs": [],
   "source": [
    "for person in population.iter('person'):\n",
    "    householdId=person[0][5]\n",
    "    incomeClass=person[0][6] \n",
    "    linkHome=person[1][0].get('link') \n",
    "    if ((incomeClass.text == '5') and (householdId.text in motorHousehold)): #condition pour posséder private_AV\n",
    "        subpop=ET.SubElement(person[0],'attribute', attrib={'name': \"subpopulation\", 'class':\"java.lang.String\"})\n",
    "        subpop.text=\"private\"\n",
    "        if householdId.text not in privateHousehold: #récuperer householdId et linkHome pour les véhicules\n",
    "            privateHousehold.append(householdId.text)\n",
    "            linkHousehold.append(linkHome)\n",
    "        for leg in person[1].iter('leg'):\n",
    "            if leg.get('mode') == 'car':\n",
    "                leg.set('mode','private_AV')\n",
    "                leg[0][0].text='private_AV'\n",
    "                if leg[1].get('start_link') == leg[1].get('end_link'):\n",
    "                    leg.set('mode','walk')\n",
    "                    leg[0][0].text='walk'\n",
    "                    leg[1].text=''\n",
    "            if leg.get('mode') == 'car_passenger':\n",
    "                leg.set('mode','private_AV')\n",
    "                leg[0][0].text='private_AV'\n",
    "                if leg[1].get('start_link') == leg[1].get('end_link'):\n",
    "                    leg.set('mode','walk')\n",
    "                    leg[0][0].text='walk'\n",
    "                    leg[1].text=''\n",
    "    else: #utilisateurs de robotaxis\n",
    "        subpop=ET.SubElement(person[0],'attribute', attrib={'name': \"subpopulation\", 'class':\"java.lang.String\"})\n",
    "        subpop.text=\"unmotorized\"\n",
    "        taxiUser+=1\n",
    "        for leg in person[1].iter('leg'):\n",
    "            if leg.get('mode') == 'car':\n",
    "                leg.set('mode','drt')\n",
    "                leg[0][0].text='drt'\n",
    "                if leg[1].get('start_link') == leg[1].get('end_link'):\n",
    "                    leg.set('mode','walk')\n",
    "                    leg[0][0].text='walk'\n",
    "                    leg[1].text=''\n",
    "                else :\n",
    "                    leg.set('mode','drt') #avec drt <route> est different de car (ce n'est pas la liste des liens mais les paramètres d'attente et detour autorisé)\n",
    "                    leg.remove(leg[0])\n",
    "                    leg.remove(leg[0])\n",
    "            if leg.get('mode') == 'car_passenger':\n",
    "                leg.set('mode','drt')\n",
    "                leg[0][0].text='drt'\n",
    "                if leg[1].get('start_link') == leg[1].get('end_link'):\n",
    "                    leg.set('mode','walk')\n",
    "                    leg[0][0].text='walk'\n",
    "                    leg[1].text=''\n",
    "                else :\n",
    "                    leg.set('mode','drt')\n",
    "                    leg.remove(leg[0])\n",
    "                    leg.remove(leg[0])\n"
   ]
  },
  {
   "cell_type": "code",
   "execution_count": null,
   "metadata": {},
   "outputs": [],
   "source": [
    "print(\"Nombre de PAV :\", len(privateHousehold))\n",
    "print(\"Nombre de DRT :\", int(taxiUser/10))"
   ]
  },
  {
   "cell_type": "code",
   "execution_count": null,
   "metadata": {},
   "outputs": [],
   "source": [
    "\n",
    "modifiedPlanFile = 'data/scenario1/population_sce1.xml.gz'\n",
    "f = gzip.open(modifiedPlanFile, 'wb')\n",
    "f.write('<?xml version=\"1.0\" encoding=\"utf-8\"?><!DOCTYPE population SYSTEM \"http://www.matsim.org/files/dtd/population_v6.dtd\">'.encode('utf8'))\n",
    "ElementTree(population).write(f) \n",
    "f.close()"
   ]
  },
  {
   "cell_type": "code",
   "execution_count": null,
   "metadata": {},
   "outputs": [],
   "source": [
    "# Utiliser CreateTaxiVehicles.java pour créer le fichier de taxis avec int(taxiUser/10)\n",
    "#  en modifiant: int numberofVehicles = 12923;\n",
    "#                String networkfile = \"newNetwork.xml\";\n",
    "#\t\t         String taxisFile = \"/Users/MathildeMoliner/Documents/Polytechnique/MATSim/create_input/data/scenario2/taxis.xml\";\n",
    "#           (l72) \"drt\"\n"
   ]
  },
  {
   "cell_type": "code",
   "execution_count": null,
   "metadata": {},
   "outputs": [],
   "source": [
    "# Utiliser CreateTaxiVehicles.java pour créer le fichier de véhicules privés selon len(motorHousehold)\n",
    "#  en modifiant: int numberofVehicles = 59502;\n",
    "#                String networkfile = \"/Users/MathildeMoliner/Documents/Polytechnique/MATSim/create_input/data/input_files/montreal_network.xml.gz\";\n",
    "#\t\t         String taxisFile = \"/Users/MathildeMoliner/Documents/Polytechnique/MATSim/create_input/decompress/private_vehicles_sce3.xml\";\n",
    "\t\t\n",
    "treeVehicles = ET.parse('./decompress/private_vehicles_sce3.xml')\n",
    "rootVehicles = treeVehicles.getroot()"
   ]
  },
  {
   "cell_type": "code",
   "execution_count": null,
   "metadata": {},
   "outputs": [],
   "source": [
    "i=0\n",
    "for taxi in rootVehicles.iter('vehicle'):\n",
    "    taxi.set('id','taxi_' + str(motorHousehold[i]))\n",
    "    taxi.set('start_link',linkHousehold[i])\n",
    "    i+=1"
   ]
  },
  {
   "cell_type": "code",
   "execution_count": null,
   "metadata": {},
   "outputs": [],
   "source": [
    "g = gzip.open('data/scenario3/private_vehicles_sce3.xml.gz', 'wb')\n",
    "g.write('<?xml version=\"1.0\" encoding=\"utf-8\"?><!DOCTYPE vehicles SYSTEM \"http://matsim.org/files/dtd/dvrp_vehicles_v1.dtd\">'.encode('utf8'))\n",
    "ElementTree(rootVehicles).write(g,'utf-8')\n",
    "g.close()"
   ]
  }
 ],
 "metadata": {
  "language_info": {
   "name": "python"
  },
  "orig_nbformat": 4
 },
 "nbformat": 4,
 "nbformat_minor": 2
}
