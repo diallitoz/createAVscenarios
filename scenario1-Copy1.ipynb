{
 "cells": [
  {
   "cell_type": "code",
   "execution_count": null,
   "metadata": {},
   "outputs": [],
   "source": [
    "import xml.etree.ElementTree as ET \n",
    "import gzip\n",
    "from xml.etree.cElementTree import ElementTree"
   ]
  },
  {
   "cell_type": "code",
   "execution_count": null,
   "metadata": {},
   "outputs": [],
   "source": [
    "initialPlanFile = '/Users/MathildeMoliner/Documents/Polytechnique/MATSim/create_input/decompress/input_plans.xml.gz'\n",
    "treePopulation = ET.parse(gzip.open(initialPlanFile,'r'))\n",
    "population  = treePopulation.getroot()"
   ]
  },
  {
   "cell_type": "code",
   "execution_count": null,
   "metadata": {},
   "outputs": [],
   "source": [
    "motorHousehold=[]\n",
    "linkHousehold=[]\n",
    "\n",
    "# Regarder si le ménage est motorisé  pour relever son householdId et linkHousehold\n",
    "for person in population.iter('person'):\n",
    "    carAvail=person[0][2]\n",
    "    householdId=person[0][5]\n",
    "    linkHome=person[1][0].get('link')\n",
    "    if carAvail.text!='never':\n",
    "        if householdId.text not in motorHousehold: \n",
    "            motorHousehold.append(householdId.text)\n",
    "            linkHousehold.append(linkHome)\n",
    "\n",
    "print('Nombre de PAV :', len(motorHousehold))"
   ]
  },
  {
   "cell_type": "code",
   "execution_count": null,
   "metadata": {},
   "outputs": [],
   "source": [
    "#Modifier les plans pour retirer imposer les modes private_AV aux utilisateurs car et car_passenger\n",
    "for person in population.iter('person'):\n",
    "    carAvail=person[0][2]\n",
    "    householdId=person[0][5]\n",
    "    if householdId.text in motorHousehold: #si motorisé \n",
    "        for leg in person[1].iter('leg'):\n",
    "            if leg.get('mode') == 'car':\n",
    "                leg.set('mode','private_AV')\n",
    "                leg[0][0].text='private_AV'\n",
    "                if leg[1].get('start_link') == leg[1].get('end_link'): #éviter les erreurs car une requête start_link=end_link échoue\n",
    "                    leg.set('mode','walk')\n",
    "                    leg[0][0].text='walk'\n",
    "                    leg[1].text=''\n",
    "            if leg.get('mode') == 'car_passenger':\n",
    "                leg.set('mode','private_AV')\n",
    "                leg[0][0].text='private_AV'\n",
    "                if leg[1].get('start_link') == leg[1].get('end_link'):\n",
    "                    leg.set('mode','walk')\n",
    "                    leg[0][0].text='walk'\n",
    "                    leg[1].text=''\n",
    "        subpop=ET.SubElement(person[0],'attribute', attrib={'name': \"subpopulation\", 'class':\"java.lang.String\"})\n",
    "        subpop.text=\"private\"\n",
    "        carAvail.text='never' \n",
    "    else:        \n",
    "        subpop=ET.SubElement(person[0],'attribute', attrib={'name': \"subpopulation\", 'class':\"java.lang.String\"})\n",
    "        subpop.text=\"no_private\"\n",
    "        for leg in person[1].iter('leg'):\n",
    "            if leg.get('mode') == 'car':\n",
    "                leg.set('mode','walk')\n",
    "                leg[0][0].text='walk'\n",
    "                leg[1].text=''\n",
    "            if leg.get('mode') == 'car_passenger':\n",
    "                leg.set('mode','walk')\n",
    "                leg[0][0].text='walk'\n",
    "                leg[1].text=''"
   ]
  },
  {
   "cell_type": "code",
   "execution_count": 1,
   "metadata": {},
   "outputs": [
    {
     "ename": "NameError",
     "evalue": "name 'gzip' is not defined",
     "output_type": "error",
     "traceback": [
      "\u001b[0;31m---------------------------------------------------------------------------\u001b[0m",
      "\u001b[0;31mNameError\u001b[0m                                 Traceback (most recent call last)",
      "\u001b[0;32m/tmp/ipykernel_47424/1613263679.py\u001b[0m in \u001b[0;36m<module>\u001b[0;34m\u001b[0m\n\u001b[1;32m      1\u001b[0m \u001b[0mmodifiedPlanFile\u001b[0m \u001b[0;34m=\u001b[0m \u001b[0;34m'/media/aodiallo/Data/MATSIM/Simulation/robotaxi/input/scenario1/population_sce1.xml.gz'\u001b[0m\u001b[0;34m\u001b[0m\u001b[0;34m\u001b[0m\u001b[0m\n\u001b[0;32m----> 2\u001b[0;31m \u001b[0mf\u001b[0m \u001b[0;34m=\u001b[0m \u001b[0mgzip\u001b[0m\u001b[0;34m.\u001b[0m\u001b[0mopen\u001b[0m\u001b[0;34m(\u001b[0m\u001b[0mmodifiedPlanFile\u001b[0m\u001b[0;34m,\u001b[0m \u001b[0;34m'wb'\u001b[0m\u001b[0;34m)\u001b[0m\u001b[0;34m\u001b[0m\u001b[0;34m\u001b[0m\u001b[0m\n\u001b[0m\u001b[1;32m      3\u001b[0m \u001b[0mf\u001b[0m\u001b[0;34m.\u001b[0m\u001b[0mwrite\u001b[0m\u001b[0;34m(\u001b[0m\u001b[0;34m'<?xml version=\"1.0\" encoding=\"utf-8\"?><!DOCTYPE population SYSTEM \"http://www.matsim.org/files/dtd/population_v6.dtd\">'\u001b[0m\u001b[0;34m.\u001b[0m\u001b[0mencode\u001b[0m\u001b[0;34m(\u001b[0m\u001b[0;34m'utf8'\u001b[0m\u001b[0;34m)\u001b[0m\u001b[0;34m)\u001b[0m\u001b[0;34m\u001b[0m\u001b[0;34m\u001b[0m\u001b[0m\n\u001b[1;32m      4\u001b[0m \u001b[0mElementTree\u001b[0m\u001b[0;34m(\u001b[0m\u001b[0mpopulation\u001b[0m\u001b[0;34m)\u001b[0m\u001b[0;34m.\u001b[0m\u001b[0mwrite\u001b[0m\u001b[0;34m(\u001b[0m\u001b[0mf\u001b[0m\u001b[0;34m)\u001b[0m\u001b[0;34m\u001b[0m\u001b[0;34m\u001b[0m\u001b[0m\n\u001b[1;32m      5\u001b[0m \u001b[0mf\u001b[0m\u001b[0;34m.\u001b[0m\u001b[0mclose\u001b[0m\u001b[0;34m(\u001b[0m\u001b[0;34m)\u001b[0m\u001b[0;34m\u001b[0m\u001b[0;34m\u001b[0m\u001b[0m\n",
      "\u001b[0;31mNameError\u001b[0m: name 'gzip' is not defined"
     ]
    }
   ],
   "source": [
    "\n",
    "modifiedPlanFile = '/media/aodiallo/Data/MATSIM/Simulation/robotaxi/input/scenario1/population_sce1.xml.gz'\n",
    "f = gzip.open(modifiedPlanFile, 'wb')\n",
    "f.write('<?xml version=\"1.0\" encoding=\"utf-8\"?><!DOCTYPE population SYSTEM \"http://www.matsim.org/files/dtd/population_v6.dtd\">'.encode('utf8'))\n",
    "ElementTree(population).write(f) \n",
    "f.close()"
   ]
  },
  {
   "cell_type": "code",
   "execution_count": null,
   "metadata": {},
   "outputs": [],
   "source": [
    "# Utiliser CreateTaxiVehicles.java pour créer le fichier de véhicules privés selon len(motorHousehold)\n",
    "#  en modifiant: \n",
    "#    int numberofVehicles = 20512;\n",
    "#    String networkfile = \"/media/aodiallo/Data/MATSIM/Simulation/robotaxi/0.01/input/grand_lyon_network.xml.gz\";\n",
    "#    String taxisFile = \"/media/aodiallo/Data/MATSIM/Simulation/robotaxi/input/taxis/private_vehicles_sce1_\" + numberofVehicles + \".xml\";\n",
    "       \n",
    "treeVehicles = ET.parse('/media/aodiallo/Data/MATSIM/Simulation/robotaxi/input/taxis/private_vehicles_sce1_20512.xml')\n",
    "rootVehicles = treeVehicles.getroot()"
   ]
  },
  {
   "cell_type": "code",
   "execution_count": null,
   "metadata": {},
   "outputs": [],
   "source": [
    "i=0\n",
    "for taxi in rootVehicles.iter('vehicle'):\n",
    "    taxi.set('id','taxi_' + str(motorHousehold[i]))\n",
    "    taxi.set('start_link',linkHousehold[i])\n",
    "    i+=1"
   ]
  },
  {
   "cell_type": "code",
   "execution_count": null,
   "metadata": {},
   "outputs": [],
   "source": [
    "g = gzip.open('data/scenario1/private_vehicles_sce1.xml.gz', 'wb')\n",
    "g.write('<?xml version=\"1.0\" encoding=\"utf-8\"?><!DOCTYPE vehicles SYSTEM \"http://matsim.org/files/dtd/dvrp_vehicles_v1.dtd\">'.encode('utf8'))\n",
    "ElementTree(rootVehicles).write(g,'utf-8')\n",
    "g.close()"
   ]
  }
 ],
 "metadata": {
  "kernelspec": {
   "display_name": "Python 3 (ipykernel)",
   "language": "python",
   "name": "python3"
  },
  "language_info": {
   "codemirror_mode": {
    "name": "ipython",
    "version": 3
   },
   "file_extension": ".py",
   "mimetype": "text/x-python",
   "name": "python",
   "nbconvert_exporter": "python",
   "pygments_lexer": "ipython3",
   "version": "3.9.7"
  },
  "varInspector": {
   "cols": {
    "lenName": 16,
    "lenType": 16,
    "lenVar": 40
   },
   "kernels_config": {
    "python": {
     "delete_cmd_postfix": "",
     "delete_cmd_prefix": "del ",
     "library": "var_list.py",
     "varRefreshCmd": "print(var_dic_list())"
    },
    "r": {
     "delete_cmd_postfix": ") ",
     "delete_cmd_prefix": "rm(",
     "library": "var_list.r",
     "varRefreshCmd": "cat(var_dic_list()) "
    }
   },
   "types_to_exclude": [
    "module",
    "function",
    "builtin_function_or_method",
    "instance",
    "_Feature"
   ],
   "window_display": false
  }
 },
 "nbformat": 4,
 "nbformat_minor": 2
}
