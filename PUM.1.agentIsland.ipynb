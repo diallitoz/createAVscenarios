{
 "cells": [
  {
   "cell_type": "code",
   "execution_count": 56,
   "metadata": {},
   "outputs": [],
   "source": [
    "import matsim\n",
    "import pandas as pd\n",
    "import geopandas\n",
    "from collections import defaultdict\n",
    "from mpl_toolkits.axes_grid1 import make_axes_locatable\n",
    "import matplotlib.pyplot as plt\n",
    "from shapely.geometry import Polygon, LineString, Point\n",
    "import xml.etree.ElementTree as ET \n",
    "import gzip\n",
    "import shutil\n",
    "from xml.etree.cElementTree import ElementTree"
   ]
  },
  {
   "cell_type": "code",
   "execution_count": 57,
   "metadata": {},
   "outputs": [
    {
     "data": {
      "image/png": "[encoded data removed]",
      "text/plain": [
       "<Figure size 432x288 with 1 Axes>"
      ]
     },
     "metadata": {
      "needs_background": "light"
     },
     "output_type": "display_data"
    }
   ],
   "source": [
    "island = \"/Users/MathildeMoliner/Downloads/limites-terrestres.geojson.json\"\n",
    "ile = geopandas.read_file(island)\n",
    "\n",
    "ileMTM8 = ile.to_crs(\"EPSG:32188\")\n",
    "ileMTM8.plot()\n",
    "\n",
    "moi = Point(-73.56198,45.52160)\n",
    "\n",
    "def dedans(df, x ,y):\n",
    "    point = Point(x,y)\n",
    "    table = df.contains(point)\n",
    "    for x in table:\n",
    "        if x== True:\n",
    "            return(True)\n",
    "    return(False)\n",
    "    \n",
    "#dedans(ile, moi)\n"
   ]
  },
  {
   "cell_type": "code",
   "execution_count": 58,
   "metadata": {},
   "outputs": [],
   "source": [
    "treePopulation = ET.parse(gzip.open('/Users/MathildeMoliner/Documents/Polytechnique/MATSim/create_input/decompress/input_plans.xml.gz','r'))\n",
    "population  = treePopulation.getroot()\n"
   ]
  },
  {
   "cell_type": "code",
   "execution_count": 59,
   "metadata": {},
   "outputs": [
    {
     "data": {
      "text/plain": [
       "True"
      ]
     },
     "execution_count": 59,
     "metadata": {},
     "output_type": "execute_result"
    }
   ],
   "source": [
    "agent = population[1]\n",
    "plan = agent[1]\n",
    "home = plan[0]\n",
    "x = float(home.get(\"x\"))\n",
    "y = float(home.get(\"y\"))\n",
    "x\n",
    "point = Point(x,y)\n",
    "\n",
    "dedans(ileMTM8, x,y)"
   ]
  },
  {
   "cell_type": "code",
   "execution_count": 60,
   "metadata": {},
   "outputs": [],
   "source": [
    "montrealais=0\n",
    "banlieusard=0"
   ]
  },
  {
   "cell_type": "code",
   "execution_count": 61,
   "metadata": {},
   "outputs": [],
   "source": [
    "for person in population.iter('person'):\n",
    "    carAvail = person[0][2]\n",
    "    x = float(person[1][0].get('x'))\n",
    "    y = float(person[1][0].get('y'))\n",
    "    if dedans(ileMTM8,x,y) == True:\n",
    "        # Ajouter la subpopulation\n",
    "        carAvail.text='never'\n",
    "        subpop=ET.SubElement(person[0],'attribute', attrib={'name': \"subpopulation\", 'class':\"java.lang.String\"})\n",
    "        subpop.text=\"montrealais\"\n",
    "        montrealais+=1\n",
    "        # Modifier le mode \n",
    "        for leg in person[1].iter('leg'):\n",
    "            if leg.get('mode') == 'car':\n",
    "                leg.set('mode','taxi')\n",
    "                leg[0][0].text='taxi'\n",
    "                if leg[1].get('start_link') == leg[1].get('end_link'):\n",
    "                    leg.set('mode','walk')\n",
    "                    leg[0][0].text='walk'\n",
    "                    leg[1].text=''\n",
    "            if leg.get('mode') == 'car_passenger':\n",
    "                leg.set('mode','taxi')\n",
    "                leg[0][0].text='taxi'\n",
    "                if leg[1].get('start_link') == leg[1].get('end_link'):\n",
    "                    leg.set('mode','walk')\n",
    "                    leg[0][0].text='walk'\n",
    "                    leg[1].text=''\n",
    "    else: \n",
    "        # Ajouter la subpopulation\n",
    "        subpop=ET.SubElement(person[0],'attribute', attrib={'name': \"subpopulation\", 'class':\"java.lang.String\"})\n",
    "        subpop.text=\"banlieusard\"\n",
    "        banlieusard+=1"
   ]
  },
  {
   "cell_type": "code",
   "execution_count": 62,
   "metadata": {},
   "outputs": [
    {
     "data": {
      "text/plain": [
       "71777"
      ]
     },
     "execution_count": 62,
     "metadata": {},
     "output_type": "execute_result"
    }
   ],
   "source": [
    "montrealais"
   ]
  },
  {
   "cell_type": "code",
   "execution_count": 63,
   "metadata": {},
   "outputs": [
    {
     "data": {
      "text/plain": [
       "78295"
      ]
     },
     "execution_count": 63,
     "metadata": {},
     "output_type": "execute_result"
    }
   ],
   "source": [
    "banlieusard"
   ]
  },
  {
   "cell_type": "code",
   "execution_count": 64,
   "metadata": {},
   "outputs": [],
   "source": [
    "path = '/Users/MathildeMoliner/Documents/Polytechnique/MATSim/create_input/PUM/sce1/plans.xml.gz'\n",
    "f = gzip.open(path, 'wb')\n",
    "f.write('<?xml version=\"1.0\" encoding=\"utf-8\"?><!DOCTYPE population SYSTEM \"http://www.matsim.org/files/dtd/population_v6.dtd\">'.encode('utf8'))\n",
    "ElementTree(population).write(f) \n",
    "f.close()"
   ]
  }
 ],
 "metadata": {
  "interpreter": {
   "hash": "aee8b7b246df8f9039afb4144a1f6fd8d2ca17a180786b69acc140d282b71a49"
  },
  "kernelspec": {
   "display_name": "Python 3.9.7 64-bit",
   "name": "python3"
  },
  "language_info": {
   "codemirror_mode": {
    "name": "ipython",
    "version": 3
   },
   "file_extension": ".py",
   "mimetype": "text/x-python",
   "name": "python",
   "nbconvert_exporter": "python",
   "pygments_lexer": "ipython3",
   "version": "3.9.7"
  },
  "orig_nbformat": 4
 },
 "nbformat": 4,
 "nbformat_minor": 2
}
