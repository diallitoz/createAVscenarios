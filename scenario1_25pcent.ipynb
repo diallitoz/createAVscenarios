{
 "cells": [
  {
   "cell_type": "code",
   "execution_count": 1,
   "metadata": {},
   "outputs": [],
   "source": [
    "import xml.etree.ElementTree as ET \n",
    "import gzip\n",
    "from xml.etree.cElementTree import ElementTree\n",
    "import statistics"
   ]
  },
  {
   "cell_type": "code",
   "execution_count": 2,
   "metadata": {},
   "outputs": [],
   "source": [
    "def population_stats(population):\n",
    "    number=len(population)\n",
    "    print(\"Taille population :   \",number)\n",
    "    driving_lic_poss = len([person for person in population.iter('person') if person[0][6].text==\"yes\"])\n",
    "    print(\"Titulaires du permis :\",driving_lic_poss,\" soit \", driving_lic_poss/number * 100, \"%\")\n",
    "    women = len([person for person in population.iter('person') if person[0][13].text==\"f\"])\n",
    "    print(\"Femmes :              \", women, \" soit \", women/number * 100, \"%\")\n",
    "    men = len([person for person in population.iter('person') if person[0][13].text==\"m\"])\n",
    "    print(\"Hommes :              \", men, \" soit \", men/number * 100, \"%\")\n",
    "    print(\"Revenu moyen :        \",statistics.mean([float(person[0][9].text) for person in population.iter('person')]))\n",
    "    pt_sub = len([person for person in population.iter('person') if person[0][7].text==\"true\"])\n",
    "    print(\"Abonnés aux pt :  \", pt_sub, \" soit \", pt_sub/number * 100, \"%\")\n",
    "    #return members\n",
    "    #CSMembership(members,companies,CSMembership_file"
   ]
  },
  {
   "cell_type": "code",
   "execution_count": null,
   "metadata": {},
   "outputs": [],
   "source": []
  },
  {
   "cell_type": "markdown",
   "metadata": {},
   "source": [
    "## Loading data"
   ]
  },
  {
   "cell_type": "code",
   "execution_count": 3,
   "metadata": {},
   "outputs": [],
   "source": [
    "##Input plan\n",
    "initialPlanFile_v1 = '/media/aodiallo/Data/MATSIM/output/output_grand_lyon_v0.25/lyon_metropole_population_v1.xml.gz'\n",
    "treePopulation = ET.parse(gzip.open(initialPlanFile_v1,'r'))\n",
    "population  = treePopulation.getroot()"
   ]
  },
  {
   "cell_type": "markdown",
   "metadata": {},
   "source": [
    "## Some population statistics"
   ]
  },
  {
   "cell_type": "code",
   "execution_count": 4,
   "metadata": {},
   "outputs": [
    {
     "name": "stdout",
     "output_type": "stream",
     "text": [
      "Taille population :    315786\n",
      "Titulaires du permis : 197306  soit  62.48092062346019 %\n",
      "Femmes :               164966  soit  52.23980797122102 %\n",
      "Hommes :               150819  soit  47.759875358628946 %\n",
      "Revenu moyen :         3611.535479282468\n",
      "Abonnés aux pt :   107570  soit  34.06420803962177 %\n"
     ]
    }
   ],
   "source": [
    "population_stats(population)"
   ]
  },
  {
   "cell_type": "code",
   "execution_count": null,
   "metadata": {},
   "outputs": [],
   "source": []
  },
  {
   "cell_type": "code",
   "execution_count": 5,
   "metadata": {},
   "outputs": [
    {
     "data": {
      "text/plain": [
       "'\\nfor person in population.iter(\\'person\\'):\\n    if person[0][6].text==\"yes\":\\n        print(\"yesssssssssssssssssss\")\\n'"
      ]
     },
     "execution_count": 5,
     "metadata": {},
     "output_type": "execute_result"
    }
   ],
   "source": [
    "\"\"\"\n",
    "for person in population.iter('person'):\n",
    "    if person[0][6].text==\"yes\":\n",
    "        print(\"yesssssssssssssssssss\")\n",
    "\"\"\""
   ]
  },
  {
   "cell_type": "code",
   "execution_count": null,
   "metadata": {},
   "outputs": [],
   "source": []
  },
  {
   "cell_type": "code",
   "execution_count": null,
   "metadata": {},
   "outputs": [],
   "source": []
  },
  {
   "cell_type": "code",
   "execution_count": 6,
   "metadata": {},
   "outputs": [
    {
     "name": "stdout",
     "output_type": "stream",
     "text": [
      "Nombre d'agents =  315785\n"
     ]
    }
   ],
   "source": [
    "print(\"Nombre d'agents = \", len(population) -1)#Without the CRS attribute!!!"
   ]
  },
  {
   "cell_type": "code",
   "execution_count": 7,
   "metadata": {},
   "outputs": [
    {
     "data": {
      "text/plain": [
       "'population'"
      ]
     },
     "execution_count": 7,
     "metadata": {},
     "output_type": "execute_result"
    }
   ],
   "source": [
    "population.tag"
   ]
  },
  {
   "cell_type": "code",
   "execution_count": 8,
   "metadata": {},
   "outputs": [
    {
     "data": {
      "text/plain": [
       "{}"
      ]
     },
     "execution_count": 8,
     "metadata": {},
     "output_type": "execute_result"
    }
   ],
   "source": [
    "population.attrib"
   ]
  },
  {
   "cell_type": "code",
   "execution_count": 9,
   "metadata": {},
   "outputs": [
    {
     "data": {
      "text/plain": [
       "('attributes', {})"
      ]
     },
     "execution_count": 9,
     "metadata": {},
     "output_type": "execute_result"
    }
   ],
   "source": [
    "population[0].tag, population[0].attrib"
   ]
  },
  {
   "cell_type": "code",
   "execution_count": 10,
   "metadata": {},
   "outputs": [
    {
     "data": {
      "text/plain": [
       "'Atlantis'"
      ]
     },
     "execution_count": 10,
     "metadata": {},
     "output_type": "execute_result"
    }
   ],
   "source": [
    "population[0][0].text"
   ]
  },
  {
   "cell_type": "code",
   "execution_count": 11,
   "metadata": {},
   "outputs": [
    {
     "name": "stdout",
     "output_type": "stream",
     "text": [
      "person {'id': '10000'}\n",
      "number of element  2\n",
      "attribute {'name': 'age', 'class': 'java.lang.Integer'}\n",
      "attribute {'name': 'bikeAvailability', 'class': 'java.lang.String'}\n",
      "attribute {'name': 'carAvailability', 'class': 'java.lang.String'}\n",
      "number of element of attribute  15\n",
      "attribute {'name': 'age', 'class': 'java.lang.Integer'}\n",
      "attribute {'name': 'bikeAvailability', 'class': 'java.lang.String'}\n",
      "attribute {'name': 'carAvailability', 'class': 'java.lang.String'}\n",
      "attribute {'name': 'censusHouseholdId', 'class': 'java.lang.Long'}\n",
      "attribute {'name': 'censusPersonId', 'class': 'java.lang.Long'}\n",
      "attribute {'name': 'employed', 'class': 'java.lang.String'}\n",
      "attribute {'name': 'hasLicense', 'class': 'java.lang.String'}\n",
      "attribute {'name': 'hasPtSubscription', 'class': 'java.lang.Boolean'}\n",
      "attribute {'name': 'householdId', 'class': 'java.lang.Integer'}\n",
      "attribute {'name': 'householdIncome', 'class': 'java.lang.Double'}\n",
      "attribute {'name': 'htsHouseholdId', 'class': 'java.lang.Long'}\n",
      "attribute {'name': 'htsPersonId', 'class': 'java.lang.Long'}\n",
      "attribute {'name': 'isPassenger', 'class': 'java.lang.Boolean'}\n",
      "attribute {'name': 'sex', 'class': 'java.lang.String'}\n",
      "attribute {'name': 'carAvail', 'class': 'java.lang.String'}\n",
      "activity {'type': 'home', 'link': '73279', 'facility': 'home_4660', 'x': '837875.8', 'y': '6523268.69', 'end_time': '11:18:31'}\n",
      "number of element of plan  5\n",
      "The activity is home !!!\n",
      "And his link id is  73279\n"
     ]
    }
   ],
   "source": [
    "for person in population.iter('person'):\n",
    "    print(person.tag, person.attrib)\n",
    "    print(\"number of element \", len(person))\n",
    "    print(person[0][0].tag, person[0][0].attrib)\n",
    "    print(person[0][1].tag, person[0][1].attrib)\n",
    "    print(person[0][2].tag, person[0][2].attrib)\n",
    "    \n",
    "    print(\"number of element of attribute \", len(person[0]))\n",
    "    \n",
    "    for i in range(len(person[0])):\n",
    "        print(person[0][i].tag, person[0][i].attrib)\n",
    "    \n",
    "    print(person[1][0].tag, person[1][0].attrib)\n",
    "    \n",
    "    print(\"number of element of plan \", len(person[1]))\n",
    "    \n",
    "    for i in range(len(person[1])):\n",
    "        if person[1][i].get('type')=='home':\n",
    "            print(\"The activity is home !!!\")\n",
    "            print(\"And his link id is \", person[1][i].get('link'))\n",
    "            break\n",
    "        else :\n",
    "            print(\"There is no HOME activity !\")\n",
    "    break"
   ]
  },
  {
   "cell_type": "code",
   "execution_count": null,
   "metadata": {},
   "outputs": [],
   "source": []
  },
  {
   "cell_type": "code",
   "execution_count": null,
   "metadata": {},
   "outputs": [],
   "source": []
  },
  {
   "cell_type": "code",
   "execution_count": 12,
   "metadata": {},
   "outputs": [],
   "source": [
    "householdIdList=[]\n",
    "motorHousehold=[]\n",
    "linkHousehold=[]\n",
    "cpt = 0\n",
    "cpt_persons = 0\n",
    "\n",
    "# Regarder si le ménage est motorisé  pour relever son householdId et linkHousehold\n",
    "for person in population.iter('person'):\n",
    "    cpt = cpt +1\n",
    "    carAvail=person[0][2]#car availability attribute. Possible values : some, all, none. The value never does not exist\n",
    "    householdId=person[0][8]## cahnge person[0][5] to person[0][8]\n",
    "    \n",
    "    ##Determine the number of household\n",
    "    if householdId.text not in householdIdList :\n",
    "        householdIdList.append(householdId.text)\n",
    "    \n",
    "    noHomeActivity = False###Its was appear that some agents (persons) has not home activity. \n",
    "    #So we will assign a PAV even they have car!\n",
    "    linkHome = \"\"\n",
    "    for i in range(len(person[1])):\n",
    "        if person[1][i].get('type')=='home':\n",
    "            #print(\"The activity is home !!!\")\n",
    "            linkHome = person[1][i].get('link')\n",
    "            noHomeActivity = False\n",
    "            break\n",
    "        else :\n",
    "            noHomeActivity = True\n",
    "            #print(\"There is no HOME activity !\")\n",
    "            \n",
    "    \"\"\"\n",
    "    ##Search the home activity\n",
    "    for i in range(len(person[1])):\n",
    "        if person[1][i].get('type')=='home':\n",
    "            linkHome=person[1][i].get('link')\n",
    "            break\n",
    "        else :\n",
    "            print(\"There is no HOME activity !\")\n",
    "        \n",
    "    \"\"\"\n",
    "    if carAvail.text!='none' and not noHomeActivity :\n",
    "        cpt_persons = cpt_persons +1\n",
    "        householdAVId=person[0][8]## cahnge person[0][5] to person[0][8]\n",
    "        if householdAVId.text not in motorHousehold:##Note: A household is composed of one or more persons \n",
    "            motorHousehold.append(householdAVId.text)\n",
    "            linkHousehold.append(linkHome)"
   ]
  },
  {
   "cell_type": "code",
   "execution_count": 13,
   "metadata": {},
   "outputs": [
    {
     "name": "stdout",
     "output_type": "stream",
     "text": [
      "Number of household with a PAV:  102240  on  153867  households total corresponding to  315785  persons!\n",
      "Or :  66.44699643198346  % of total households\n"
     ]
    }
   ],
   "source": [
    "print('Number of household with a PAV: ', len(motorHousehold), ' on ', len(householdIdList), \" households total corresponding to \", cpt, \" persons!\")\n",
    "print('Or : ', len(motorHousehold)/len(householdIdList) * 100, \" % of total households\")"
   ]
  },
  {
   "cell_type": "code",
   "execution_count": 14,
   "metadata": {},
   "outputs": [
    {
     "data": {
      "text/plain": [
       "241095"
      ]
     },
     "execution_count": 14,
     "metadata": {},
     "output_type": "execute_result"
    }
   ],
   "source": [
    "cpt_persons"
   ]
  },
  {
   "cell_type": "code",
   "execution_count": 15,
   "metadata": {},
   "outputs": [
    {
     "data": {
      "text/plain": [
       "66.37540453074435"
      ]
     },
     "execution_count": 15,
     "metadata": {},
     "output_type": "execute_result"
    }
   ],
   "source": [
    "#20512/30900 *100\n",
    "#20510/30900 *100"
   ]
  },
  {
   "cell_type": "code",
   "execution_count": 16,
   "metadata": {},
   "outputs": [],
   "source": [
    "#Modifier les plans pour retirer la voiture et imposer les modes private_AV aux utilisateurs car et car_passenger\n",
    "for person in population.iter('person'):\n",
    "    carAvail=person[0][2]\n",
    "    householdId=person[0][8]## cahnge person[0][5] to person[0][8]\n",
    "    if householdId.text in motorHousehold: #si motorisé \n",
    "        for leg in person[1].iter('leg'):\n",
    "            if leg.get('mode') == 'car':\n",
    "                leg.set('mode','private_AV')\n",
    "                leg[0][0].text='private_AV'## <atributes><attribute>value</attribute></attributes>\n",
    "                if leg[1].get('start_link') == leg[1].get('end_link'): #éviter les erreurs car une requête start_link=end_link échoue\n",
    "                    leg.set('mode','walk')\n",
    "                    leg[0][0].text='walk'\n",
    "                    leg[1].text=''\n",
    "            if leg.get('mode') == 'car_passenger':\n",
    "                leg.set('mode','private_AV')\n",
    "                leg[0][0].text='private_AV'\n",
    "                if leg[1].get('start_link') == leg[1].get('end_link'):\n",
    "                    leg.set('mode','walk')\n",
    "                    leg[0][0].text='walk'\n",
    "                    leg[1].text=''\n",
    "        subpop=ET.SubElement(person[0],'attribute', attrib={'name': \"subpopulation\", 'class':\"java.lang.String\"})\n",
    "        subpop.text=\"private\"\n",
    "        carAvail.text='none'\n",
    "    else:        \n",
    "        subpop=ET.SubElement(person[0],'attribute', attrib={'name': \"subpopulation\", 'class':\"java.lang.String\"})\n",
    "        subpop.text=\"no_private\"\n",
    "        #Not needing to disable the car availability ?\n",
    "        for leg in person[1].iter('leg'):\n",
    "            if leg.get('mode') == 'car':##Delete the car mode for this sub-population!\n",
    "                leg.set('mode','walk')\n",
    "                leg[0][0].text='walk'\n",
    "                leg[1].text=''\n",
    "            if leg.get('mode') == 'car_passenger':\n",
    "                leg.set('mode','walk')\n",
    "                leg[0][0].text='walk'\n",
    "                leg[1].text=''"
   ]
  },
  {
   "cell_type": "code",
   "execution_count": 17,
   "metadata": {},
   "outputs": [],
   "source": [
    "modifiedPlanFile = '/media/aodiallo/Data/MATSIM/Simulation/robotaxi/input/scenario1/population_sce1_25pcent.xml.gz'\n",
    "f = gzip.open(modifiedPlanFile, 'wb')\n",
    "f.write('<?xml version=\"1.0\" encoding=\"utf-8\"?><!DOCTYPE population SYSTEM \"http://www.matsim.org/files/dtd/population_v6.dtd\">'.encode('utf8'))\n",
    "ElementTree(population).write(f) \n",
    "f.close()"
   ]
  },
  {
   "cell_type": "code",
   "execution_count": 18,
   "metadata": {},
   "outputs": [
    {
     "ename": "NameError",
     "evalue": "name 'stop' is not defined",
     "output_type": "error",
     "traceback": [
      "\u001b[0;31m---------------------------------------------------------------------------\u001b[0m",
      "\u001b[0;31mNameError\u001b[0m                                 Traceback (most recent call last)",
      "\u001b[0;32m/tmp/ipykernel_289485/3957423419.py\u001b[0m in \u001b[0;36m<module>\u001b[0;34m\u001b[0m\n\u001b[0;32m----> 1\u001b[0;31m \u001b[0mstop\u001b[0m\u001b[0;34m\u001b[0m\u001b[0;34m\u001b[0m\u001b[0m\n\u001b[0m",
      "\u001b[0;31mNameError\u001b[0m: name 'stop' is not defined"
     ]
    }
   ],
   "source": [
    "stop"
   ]
  },
  {
   "cell_type": "code",
   "execution_count": null,
   "metadata": {},
   "outputs": [],
   "source": [
    "# Utiliser CreateTaxiVehicles.java pour créer le fichier de véhicules privés selon len(motorHousehold)\n",
    "#  en modifiant: \n",
    "#    int numberofVehicles = 102240;\n",
    "#    String networkfile = \"/media/aodiallo/Data/MATSIM/output/output_grand_lyon_v0.05/lyon_metropole_network.xml.gz\";\n",
    "#    String taxisFile = \"/media/aodiallo/Data/MATSIM/Simulation/robotaxi/input/taxis/private_vehicles_sce1_\" + numberofVehicles + \".xml\";\n",
    "       \n",
    "treeVehicles = ET.parse('/media/aodiallo/Data/MATSIM/Simulation/robotaxi/input/taxis/private_vehicles_sce1_102240.xml')\n",
    "rootVehicles = treeVehicles.getroot()"
   ]
  },
  {
   "cell_type": "code",
   "execution_count": null,
   "metadata": {},
   "outputs": [],
   "source": [
    "print(len(rootVehicles))"
   ]
  },
  {
   "cell_type": "code",
   "execution_count": null,
   "metadata": {},
   "outputs": [],
   "source": [
    "## Redefine the ID and the START_LINK to assign taxi to correspond to the household for his PAV\n",
    "i=0\n",
    "for taxi in rootVehicles.iter('vehicle'):\n",
    "    taxi.set('id','taxi_' + str(motorHousehold[i]))\n",
    "    taxi.set('start_link',linkHousehold[i])\n",
    "    i+=1"
   ]
  },
  {
   "cell_type": "code",
   "execution_count": null,
   "metadata": {},
   "outputs": [],
   "source": [
    "g = gzip.open('/media/aodiallo/Data/MATSIM/Simulation/robotaxi/input/scenario1/private_vehicles_sce1_25pcent_20510.xml.gz', 'wb')\n",
    "g.write('<?xml version=\"1.0\" encoding=\"utf-8\"?><!DOCTYPE vehicles SYSTEM \"http://matsim.org/files/dtd/dvrp_vehicles_v1.dtd\">'.encode('utf8'))\n",
    "ElementTree(rootVehicles).write(g,'utf-8')\n",
    "g.close()"
   ]
  },
  {
   "cell_type": "code",
   "execution_count": null,
   "metadata": {},
   "outputs": [],
   "source": []
  },
  {
   "cell_type": "code",
   "execution_count": null,
   "metadata": {},
   "outputs": [],
   "source": []
  },
  {
   "cell_type": "code",
   "execution_count": null,
   "metadata": {},
   "outputs": [],
   "source": []
  }
 ],
 "metadata": {
  "kernelspec": {
   "display_name": "Python 3 (ipykernel)",
   "language": "python",
   "name": "python3"
  },
  "language_info": {
   "codemirror_mode": {
    "name": "ipython",
    "version": 3
   },
   "file_extension": ".py",
   "mimetype": "text/x-python",
   "name": "python",
   "nbconvert_exporter": "python",
   "pygments_lexer": "ipython3",
   "version": "3.9.7"
  },
  "varInspector": {
   "cols": {
    "lenName": 16,
    "lenType": 16,
    "lenVar": 40
   },
   "kernels_config": {
    "python": {
     "delete_cmd_postfix": "",
     "delete_cmd_prefix": "del ",
     "library": "var_list.py",
     "varRefreshCmd": "print(var_dic_list())"
    },
    "r": {
     "delete_cmd_postfix": ") ",
     "delete_cmd_prefix": "rm(",
     "library": "var_list.r",
     "varRefreshCmd": "cat(var_dic_list()) "
    }
   },
   "types_to_exclude": [
    "module",
    "function",
    "builtin_function_or_method",
    "instance",
    "_Feature"
   ],
   "window_display": false
  }
 },
 "nbformat": 4,
 "nbformat_minor": 2
}
